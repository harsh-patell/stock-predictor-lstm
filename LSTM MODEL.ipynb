{
 "cells": [
  {
   "cell_type": "code",
   "execution_count": 3,
   "id": "3fcf1bb2-8f94-411a-a015-cfd85839b461",
   "metadata": {},
   "outputs": [],
   "source": [
    "import numpy as np\n",
    "import pandas as pd\n",
    "import matplotlib.pyplot as plt\n",
    "import pandas_datareader as data\n",
    "\n",
    "#Time Series Analysis Analogy - closing price dependent on previous (100) days\n",
    "#LSTM (Long-Short-Term-Memory Model)\n",
    "#Web app using that\n",
    "#Frameworks: Numpy, Pandas, Matplotlib, Keras, Tensorflow, Scikit-learn\n",
    "#Resources\n",
    "## https://www.youtube.com/watch?v=s3CnE2tqQdo\n",
    "## https://www.youtube.com/watch?v=QIUxPv5PJOY\n",
    "## https://medium.com/the-handbook-of-coding-in-finance/stock-prices-prediction-using-long-short-term-memory-lstm-model-in-python-734dd1ed6827#:~:text=Save-,Stock%20Prices%20Prediction%20Using%20Long%20Short,Memory%20(LSTM)%20Model%20in%20Python&text=Long%20Short%2DTerm%20Memory%20(LSTM)%20is%20one%20type%20of,useful%20in%20predicting%20stock%20prices."
   ]
  },
  {
   "cell_type": "code",
   "execution_count": 4,
   "id": "00c7eb89-1cbd-4917-a7ad-47a4bd6d30cd",
   "metadata": {
    "tags": []
   },
   "outputs": [
    {
     "data": {
      "text/html": [
       "<div>\n",
       "<style scoped>\n",
       "    .dataframe tbody tr th:only-of-type {\n",
       "        vertical-align: middle;\n",
       "    }\n",
       "\n",
       "    .dataframe tbody tr th {\n",
       "        vertical-align: top;\n",
       "    }\n",
       "\n",
       "    .dataframe thead th {\n",
       "        text-align: right;\n",
       "    }\n",
       "</style>\n",
       "<table border=\"1\" class=\"dataframe\">\n",
       "  <thead>\n",
       "    <tr style=\"text-align: right;\">\n",
       "      <th></th>\n",
       "      <th>High</th>\n",
       "      <th>Low</th>\n",
       "      <th>Open</th>\n",
       "      <th>Close</th>\n",
       "      <th>Volume</th>\n",
       "      <th>Adj Close</th>\n",
       "    </tr>\n",
       "    <tr>\n",
       "      <th>Date</th>\n",
       "      <th></th>\n",
       "      <th></th>\n",
       "      <th></th>\n",
       "      <th></th>\n",
       "      <th></th>\n",
       "      <th></th>\n",
       "    </tr>\n",
       "  </thead>\n",
       "  <tbody>\n",
       "    <tr>\n",
       "      <th>2016-01-04</th>\n",
       "      <td>46.276001</td>\n",
       "      <td>43.799999</td>\n",
       "      <td>46.144001</td>\n",
       "      <td>44.681999</td>\n",
       "      <td>34135500.0</td>\n",
       "      <td>44.681999</td>\n",
       "    </tr>\n",
       "    <tr>\n",
       "      <th>2016-01-05</th>\n",
       "      <td>45.377998</td>\n",
       "      <td>44.000000</td>\n",
       "      <td>45.271999</td>\n",
       "      <td>44.686001</td>\n",
       "      <td>15934000.0</td>\n",
       "      <td>44.686001</td>\n",
       "    </tr>\n",
       "    <tr>\n",
       "      <th>2016-01-06</th>\n",
       "      <td>44.009998</td>\n",
       "      <td>43.195999</td>\n",
       "      <td>44.000000</td>\n",
       "      <td>43.807999</td>\n",
       "      <td>18895500.0</td>\n",
       "      <td>43.807999</td>\n",
       "    </tr>\n",
       "    <tr>\n",
       "      <th>2016-01-07</th>\n",
       "      <td>43.688000</td>\n",
       "      <td>42.734001</td>\n",
       "      <td>42.838001</td>\n",
       "      <td>43.130001</td>\n",
       "      <td>17771500.0</td>\n",
       "      <td>43.130001</td>\n",
       "    </tr>\n",
       "    <tr>\n",
       "      <th>2016-01-08</th>\n",
       "      <td>44.088001</td>\n",
       "      <td>42.153999</td>\n",
       "      <td>43.571999</td>\n",
       "      <td>42.200001</td>\n",
       "      <td>18140500.0</td>\n",
       "      <td>42.200001</td>\n",
       "    </tr>\n",
       "    <tr>\n",
       "      <th>...</th>\n",
       "      <td>...</td>\n",
       "      <td>...</td>\n",
       "      <td>...</td>\n",
       "      <td>...</td>\n",
       "      <td>...</td>\n",
       "      <td>...</td>\n",
       "    </tr>\n",
       "    <tr>\n",
       "      <th>2022-08-02</th>\n",
       "      <td>923.500000</td>\n",
       "      <td>878.000000</td>\n",
       "      <td>882.010010</td>\n",
       "      <td>901.760010</td>\n",
       "      <td>31859200.0</td>\n",
       "      <td>901.760010</td>\n",
       "    </tr>\n",
       "    <tr>\n",
       "      <th>2022-08-03</th>\n",
       "      <td>928.650024</td>\n",
       "      <td>903.450012</td>\n",
       "      <td>915.000000</td>\n",
       "      <td>922.190002</td>\n",
       "      <td>26697000.0</td>\n",
       "      <td>922.190002</td>\n",
       "    </tr>\n",
       "    <tr>\n",
       "      <th>2022-08-04</th>\n",
       "      <td>940.820007</td>\n",
       "      <td>915.000000</td>\n",
       "      <td>933.000000</td>\n",
       "      <td>925.900024</td>\n",
       "      <td>24085400.0</td>\n",
       "      <td>925.900024</td>\n",
       "    </tr>\n",
       "    <tr>\n",
       "      <th>2022-08-05</th>\n",
       "      <td>913.820007</td>\n",
       "      <td>856.630005</td>\n",
       "      <td>908.010010</td>\n",
       "      <td>864.510010</td>\n",
       "      <td>37655300.0</td>\n",
       "      <td>864.510010</td>\n",
       "    </tr>\n",
       "    <tr>\n",
       "      <th>2022-08-08</th>\n",
       "      <td>915.599976</td>\n",
       "      <td>867.260010</td>\n",
       "      <td>885.000000</td>\n",
       "      <td>871.270020</td>\n",
       "      <td>32998000.0</td>\n",
       "      <td>871.270020</td>\n",
       "    </tr>\n",
       "  </tbody>\n",
       "</table>\n",
       "<p>1661 rows × 6 columns</p>\n",
       "</div>"
      ],
      "text/plain": [
       "                  High         Low        Open       Close      Volume  \\\n",
       "Date                                                                     \n",
       "2016-01-04   46.276001   43.799999   46.144001   44.681999  34135500.0   \n",
       "2016-01-05   45.377998   44.000000   45.271999   44.686001  15934000.0   \n",
       "2016-01-06   44.009998   43.195999   44.000000   43.807999  18895500.0   \n",
       "2016-01-07   43.688000   42.734001   42.838001   43.130001  17771500.0   \n",
       "2016-01-08   44.088001   42.153999   43.571999   42.200001  18140500.0   \n",
       "...                ...         ...         ...         ...         ...   \n",
       "2022-08-02  923.500000  878.000000  882.010010  901.760010  31859200.0   \n",
       "2022-08-03  928.650024  903.450012  915.000000  922.190002  26697000.0   \n",
       "2022-08-04  940.820007  915.000000  933.000000  925.900024  24085400.0   \n",
       "2022-08-05  913.820007  856.630005  908.010010  864.510010  37655300.0   \n",
       "2022-08-08  915.599976  867.260010  885.000000  871.270020  32998000.0   \n",
       "\n",
       "             Adj Close  \n",
       "Date                    \n",
       "2016-01-04   44.681999  \n",
       "2016-01-05   44.686001  \n",
       "2016-01-06   43.807999  \n",
       "2016-01-07   43.130001  \n",
       "2016-01-08   42.200001  \n",
       "...                ...  \n",
       "2022-08-02  901.760010  \n",
       "2022-08-03  922.190002  \n",
       "2022-08-04  925.900024  \n",
       "2022-08-05  864.510010  \n",
       "2022-08-08  871.270020  \n",
       "\n",
       "[1661 rows x 6 columns]"
      ]
     },
     "execution_count": 4,
     "metadata": {},
     "output_type": "execute_result"
    }
   ],
   "source": [
    "# Get the stock quote\n",
    "start = '2016-01-01'\n",
    "end = '2022-08-08'\n",
    "df = data.DataReader('TSLA', 'yahoo', start, end)\n",
    "df"
   ]
  },
  {
   "cell_type": "code",
   "execution_count": 5,
   "id": "4ae7efd3-f6e5-4979-af2c-9da64ac2f41b",
   "metadata": {
    "collapsed": true,
    "jupyter": {
     "outputs_hidden": true
    },
    "tags": []
   },
   "outputs": [
    {
     "data": {
      "text/html": [
       "<div>\n",
       "<style scoped>\n",
       "    .dataframe tbody tr th:only-of-type {\n",
       "        vertical-align: middle;\n",
       "    }\n",
       "\n",
       "    .dataframe tbody tr th {\n",
       "        vertical-align: top;\n",
       "    }\n",
       "\n",
       "    .dataframe thead th {\n",
       "        text-align: right;\n",
       "    }\n",
       "</style>\n",
       "<table border=\"1\" class=\"dataframe\">\n",
       "  <thead>\n",
       "    <tr style=\"text-align: right;\">\n",
       "      <th></th>\n",
       "      <th>Date</th>\n",
       "      <th>High</th>\n",
       "      <th>Low</th>\n",
       "      <th>Open</th>\n",
       "      <th>Close</th>\n",
       "      <th>Volume</th>\n",
       "      <th>Adj Close</th>\n",
       "    </tr>\n",
       "  </thead>\n",
       "  <tbody>\n",
       "    <tr>\n",
       "      <th>0</th>\n",
       "      <td>2016-01-04</td>\n",
       "      <td>46.276001</td>\n",
       "      <td>43.799999</td>\n",
       "      <td>46.144001</td>\n",
       "      <td>44.681999</td>\n",
       "      <td>34135500.0</td>\n",
       "      <td>44.681999</td>\n",
       "    </tr>\n",
       "    <tr>\n",
       "      <th>1</th>\n",
       "      <td>2016-01-05</td>\n",
       "      <td>45.377998</td>\n",
       "      <td>44.000000</td>\n",
       "      <td>45.271999</td>\n",
       "      <td>44.686001</td>\n",
       "      <td>15934000.0</td>\n",
       "      <td>44.686001</td>\n",
       "    </tr>\n",
       "    <tr>\n",
       "      <th>2</th>\n",
       "      <td>2016-01-06</td>\n",
       "      <td>44.009998</td>\n",
       "      <td>43.195999</td>\n",
       "      <td>44.000000</td>\n",
       "      <td>43.807999</td>\n",
       "      <td>18895500.0</td>\n",
       "      <td>43.807999</td>\n",
       "    </tr>\n",
       "    <tr>\n",
       "      <th>3</th>\n",
       "      <td>2016-01-07</td>\n",
       "      <td>43.688000</td>\n",
       "      <td>42.734001</td>\n",
       "      <td>42.838001</td>\n",
       "      <td>43.130001</td>\n",
       "      <td>17771500.0</td>\n",
       "      <td>43.130001</td>\n",
       "    </tr>\n",
       "    <tr>\n",
       "      <th>4</th>\n",
       "      <td>2016-01-08</td>\n",
       "      <td>44.088001</td>\n",
       "      <td>42.153999</td>\n",
       "      <td>43.571999</td>\n",
       "      <td>42.200001</td>\n",
       "      <td>18140500.0</td>\n",
       "      <td>42.200001</td>\n",
       "    </tr>\n",
       "  </tbody>\n",
       "</table>\n",
       "</div>"
      ],
      "text/plain": [
       "        Date       High        Low       Open      Close      Volume  \\\n",
       "0 2016-01-04  46.276001  43.799999  46.144001  44.681999  34135500.0   \n",
       "1 2016-01-05  45.377998  44.000000  45.271999  44.686001  15934000.0   \n",
       "2 2016-01-06  44.009998  43.195999  44.000000  43.807999  18895500.0   \n",
       "3 2016-01-07  43.688000  42.734001  42.838001  43.130001  17771500.0   \n",
       "4 2016-01-08  44.088001  42.153999  43.571999  42.200001  18140500.0   \n",
       "\n",
       "   Adj Close  \n",
       "0  44.681999  \n",
       "1  44.686001  \n",
       "2  43.807999  \n",
       "3  43.130001  \n",
       "4  42.200001  "
      ]
     },
     "execution_count": 5,
     "metadata": {},
     "output_type": "execute_result"
    }
   ],
   "source": [
    "df = df.reset_index()\n",
    "df.head()"
   ]
  },
  {
   "cell_type": "code",
   "execution_count": 6,
   "id": "71f31c8e-fe13-47ec-a2f4-1e48149dc822",
   "metadata": {},
   "outputs": [],
   "source": [
    "#df = df.drop(['Date','Adj Close'], axis=1)"
   ]
  },
  {
   "cell_type": "code",
   "execution_count": 7,
   "id": "019c89e1-afdd-4671-950a-ae81082284ea",
   "metadata": {
    "collapsed": true,
    "jupyter": {
     "outputs_hidden": true
    },
    "tags": []
   },
   "outputs": [
    {
     "data": {
      "image/png": "[encoded data removed]",
      "text/plain": [
       "<Figure size 864x432 with 1 Axes>"
      ]
     },
     "metadata": {
      "needs_background": "light"
     },
     "output_type": "display_data"
    }
   ],
   "source": [
    "#Visualize the closing price\n",
    "plt.figure(figsize = (12,6))\n",
    "plt.title('Close Price History')\n",
    "plt.plot(df['Close'])\n",
    "plt.xlabel('Date', fontsize=12)\n",
    "plt.ylabel('Close Price', fontsize=12)\n",
    "plt.show()"
   ]
  },
  {
   "cell_type": "code",
   "execution_count": 8,
   "id": "6ae2e86d-f54c-4393-a8e3-5618247d5b37",
   "metadata": {
    "collapsed": true,
    "jupyter": {
     "outputs_hidden": true
    },
    "tags": []
   },
   "outputs": [
    {
     "data": {
      "text/plain": [
       "0              NaN\n",
       "1              NaN\n",
       "2              NaN\n",
       "3              NaN\n",
       "4              NaN\n",
       "           ...    \n",
       "1656    827.686599\n",
       "1657    828.525499\n",
       "1658    829.830999\n",
       "1659    830.812399\n",
       "1660    831.506199\n",
       "Name: Close, Length: 1661, dtype: float64"
      ]
     },
     "execution_count": 8,
     "metadata": {},
     "output_type": "execute_result"
    }
   ],
   "source": [
    "ma100 = df.Close.rolling(100).mean()\n",
    "ma100"
   ]
  },
  {
   "cell_type": "code",
   "execution_count": 9,
   "id": "d49f31a8-a77d-4444-a3ed-aa43e5999619",
   "metadata": {
    "collapsed": true,
    "jupyter": {
     "outputs_hidden": true
    },
    "tags": []
   },
   "outputs": [
    {
     "data": {
      "image/png": "[encoded data removed]",
      "text/plain": [
       "<Figure size 432x288 with 1 Axes>"
      ]
     },
     "metadata": {
      "needs_background": "light"
     },
     "output_type": "display_data"
    }
   ],
   "source": [
    "plt.plot(df.Close)\n",
    "plt.plot(ma100, 'r')\n",
    "plt.show()"
   ]
  },
  {
   "cell_type": "code",
   "execution_count": 10,
   "id": "a9bc890d-46ff-4b43-94cb-fbd843a7447d",
   "metadata": {
    "tags": []
   },
   "outputs": [
    {
     "data": {
      "text/plain": [
       "0              NaN\n",
       "1              NaN\n",
       "2              NaN\n",
       "3              NaN\n",
       "4              NaN\n",
       "           ...    \n",
       "1656    910.245998\n",
       "1657    910.641798\n",
       "1658    910.920748\n",
       "1659    910.921948\n",
       "1660    910.949298\n",
       "Name: Close, Length: 1661, dtype: float64"
      ]
     },
     "execution_count": 10,
     "metadata": {},
     "output_type": "execute_result"
    }
   ],
   "source": [
    "ma200 = df.Close.rolling(200).mean()\n",
    "ma200"
   ]
  },
  {
   "cell_type": "code",
   "execution_count": 11,
   "id": "c5fb37f7-8280-4e47-95ea-82611ae34967",
   "metadata": {},
   "outputs": [
    {
     "data": {
      "image/png": "[encoded data removed]",
      "text/plain": [
       "<Figure size 864x432 with 1 Axes>"
      ]
     },
     "metadata": {
      "needs_background": "light"
     },
     "output_type": "display_data"
    }
   ],
   "source": [
    "plt.figure(figsize = (12,6))\n",
    "plt.plot(df.Close)\n",
    "plt.plot(ma100, 'r')\n",
    "plt.plot(ma200, 'g')\n",
    "plt.show()"
   ]
  },
  {
   "cell_type": "code",
   "execution_count": 12,
   "id": "c1933ea2-c3c5-4efc-a025-a70b934946cd",
   "metadata": {},
   "outputs": [
    {
     "data": {
      "text/plain": [
       "(1661, 7)"
      ]
     },
     "execution_count": 12,
     "metadata": {},
     "output_type": "execute_result"
    }
   ],
   "source": [
    "#Get the number of rows and columns in the data set\n",
    "df.shape"
   ]
  },
  {
   "cell_type": "code",
   "execution_count": 13,
   "id": "8a4f739e-7ca4-405c-8e33-0a56d81a6599",
   "metadata": {},
   "outputs": [
    {
     "name": "stdout",
     "output_type": "stream",
     "text": [
      "(1162, 1)\n",
      "(499, 1)\n"
     ]
    }
   ],
   "source": [
    "# Splitting Data into Training and Testing\n",
    "\n",
    "data_training = pd.DataFrame(df['Close'][0:int(len(df)*0.70)]) \n",
    "data_testing = pd.DataFrame(df['Close'][int(len(df)*0.70): int(len(df))])\n",
    "\n",
    "# Number of rows to train and test the data on\n",
    "print(data_training.shape)\n",
    "print(data_testing.shape)"
   ]
  },
  {
   "cell_type": "code",
   "execution_count": 14,
   "id": "5d6f2f19-426c-47b4-b3cf-d65dddb7bc2f",
   "metadata": {},
   "outputs": [
    {
     "data": {
      "text/html": [
       "<div>\n",
       "<style scoped>\n",
       "    .dataframe tbody tr th:only-of-type {\n",
       "        vertical-align: middle;\n",
       "    }\n",
       "\n",
       "    .dataframe tbody tr th {\n",
       "        vertical-align: top;\n",
       "    }\n",
       "\n",
       "    .dataframe thead th {\n",
       "        text-align: right;\n",
       "    }\n",
       "</style>\n",
       "<table border=\"1\" class=\"dataframe\">\n",
       "  <thead>\n",
       "    <tr style=\"text-align: right;\">\n",
       "      <th></th>\n",
       "      <th>Close</th>\n",
       "    </tr>\n",
       "  </thead>\n",
       "  <tbody>\n",
       "    <tr>\n",
       "      <th>0</th>\n",
       "      <td>44.681999</td>\n",
       "    </tr>\n",
       "    <tr>\n",
       "      <th>1</th>\n",
       "      <td>44.686001</td>\n",
       "    </tr>\n",
       "    <tr>\n",
       "      <th>2</th>\n",
       "      <td>43.807999</td>\n",
       "    </tr>\n",
       "    <tr>\n",
       "      <th>3</th>\n",
       "      <td>43.130001</td>\n",
       "    </tr>\n",
       "    <tr>\n",
       "      <th>4</th>\n",
       "      <td>42.200001</td>\n",
       "    </tr>\n",
       "  </tbody>\n",
       "</table>\n",
       "</div>"
      ],
      "text/plain": [
       "       Close\n",
       "0  44.681999\n",
       "1  44.686001\n",
       "2  43.807999\n",
       "3  43.130001\n",
       "4  42.200001"
      ]
     },
     "execution_count": 14,
     "metadata": {},
     "output_type": "execute_result"
    }
   ],
   "source": [
    "data_training.head()"
   ]
  },
  {
   "cell_type": "code",
   "execution_count": 15,
   "id": "4f37de96-995f-4556-8d6f-8eaf8bb02c7a",
   "metadata": {
    "tags": []
   },
   "outputs": [
    {
     "data": {
      "text/html": [
       "<div>\n",
       "<style scoped>\n",
       "    .dataframe tbody tr th:only-of-type {\n",
       "        vertical-align: middle;\n",
       "    }\n",
       "\n",
       "    .dataframe tbody tr th {\n",
       "        vertical-align: top;\n",
       "    }\n",
       "\n",
       "    .dataframe thead th {\n",
       "        text-align: right;\n",
       "    }\n",
       "</style>\n",
       "<table border=\"1\" class=\"dataframe\">\n",
       "  <thead>\n",
       "    <tr style=\"text-align: right;\">\n",
       "      <th></th>\n",
       "      <th>Close</th>\n",
       "    </tr>\n",
       "  </thead>\n",
       "  <tbody>\n",
       "    <tr>\n",
       "      <th>1162</th>\n",
       "      <td>330.141998</td>\n",
       "    </tr>\n",
       "    <tr>\n",
       "      <th>1163</th>\n",
       "      <td>367.127991</td>\n",
       "    </tr>\n",
       "    <tr>\n",
       "      <th>1164</th>\n",
       "      <td>377.417999</td>\n",
       "    </tr>\n",
       "    <tr>\n",
       "      <th>1165</th>\n",
       "      <td>375.705994</td>\n",
       "    </tr>\n",
       "    <tr>\n",
       "      <th>1166</th>\n",
       "      <td>400.365997</td>\n",
       "    </tr>\n",
       "  </tbody>\n",
       "</table>\n",
       "</div>"
      ],
      "text/plain": [
       "           Close\n",
       "1162  330.141998\n",
       "1163  367.127991\n",
       "1164  377.417999\n",
       "1165  375.705994\n",
       "1166  400.365997"
      ]
     },
     "execution_count": 15,
     "metadata": {},
     "output_type": "execute_result"
    }
   ],
   "source": [
    "data_testing.head()"
   ]
  },
  {
   "cell_type": "code",
   "execution_count": 16,
   "id": "34903472-4bb0-45d4-b956-7b5f05345e7b",
   "metadata": {},
   "outputs": [],
   "source": [
    "from sklearn.preprocessing import MinMaxScaler\n",
    "\n",
    "#Scale the data\n",
    "scaler = MinMaxScaler(feature_range=(0,1))"
   ]
  },
  {
   "cell_type": "code",
   "execution_count": null,
   "id": "b9b19356-052f-4416-9483-2fbf98f6b68e",
   "metadata": {},
   "outputs": [],
   "source": [
    "# Training Data "
   ]
  },
  {
   "cell_type": "code",
   "execution_count": 17,
   "id": "ffda0c63-8a87-48e9-ab65-01a56326346a",
   "metadata": {
    "collapsed": true,
    "jupyter": {
     "outputs_hidden": true
    },
    "tags": []
   },
   "outputs": [
    {
     "data": {
      "text/plain": [
       "array([[0.05318375],\n",
       "       [0.0531971 ],\n",
       "       [0.05026912],\n",
       "       ...,\n",
       "       [0.8208466 ],\n",
       "       [0.94114701],\n",
       "       [0.9853268 ]])"
      ]
     },
     "execution_count": 17,
     "metadata": {},
     "output_type": "execute_result"
    }
   ],
   "source": [
    "data_training_array = scaler.fit_transform(data_training)\n",
    "data_training_array"
   ]
  },
  {
   "cell_type": "code",
   "execution_count": 18,
   "id": "0bf51469-f49f-4ece-a126-e756488719dd",
   "metadata": {},
   "outputs": [
    {
     "data": {
      "text/plain": [
       "(1162, 1)"
      ]
     },
     "execution_count": 18,
     "metadata": {},
     "output_type": "execute_result"
    }
   ],
   "source": [
    "data_training_array.shape"
   ]
  },
  {
   "cell_type": "code",
   "execution_count": 43,
   "id": "4cd7c36f-69aa-40b4-9437-2d0b7c031e9f",
   "metadata": {
    "tags": []
   },
   "outputs": [
    {
     "name": "stdout",
     "output_type": "stream",
     "text": [
      "(1062, 100, 1)\n",
      "(1062,)\n"
     ]
    }
   ],
   "source": [
    "x_train = [] # empty list for a sequence of feature data\n",
    "y_train = [] # empty list for a squence of label data \n",
    "\n",
    "for i in range(100, data_training_array.shape[0]):\n",
    "    x_train.append(data_training_array[i - 100: i, 0])\n",
    "    y_train.append(data_training_array[i, 0])\n",
    "    \n",
    "x_train, y_train = np.array(x_train), np.array(y_train) #form accepted by Tensorflow when training data\n",
    "x_train = np.reshape(x_train, (x_train.shape[0], x_train.shape[1], 1))\n",
    "print(x_train.shape)\n",
    "print(y_train.shape)"
   ]
  },
  {
   "cell_type": "code",
   "execution_count": 20,
   "id": "de50f93f-16b0-476b-a260-ba3c28ab9f55",
   "metadata": {},
   "outputs": [],
   "source": [
    "# ML Model"
   ]
  },
  {
   "cell_type": "code",
   "execution_count": 21,
   "id": "7849cd54-bf19-4f92-8001-8ed7f32c6df9",
   "metadata": {},
   "outputs": [],
   "source": [
    "from keras.layers import Dense, Dropout, LSTM\n",
    "from keras.models import Sequential"
   ]
  },
  {
   "cell_type": "code",
   "execution_count": 23,
   "id": "18658ae8-3852-47a9-8ab7-e5e3d1e5d329",
   "metadata": {
    "tags": []
   },
   "outputs": [
    {
     "name": "stdout",
     "output_type": "stream",
     "text": [
      "Model: \"sequential_1\"\n",
      "_________________________________________________________________\n",
      " Layer (type)                Output Shape              Param #   \n",
      "=================================================================\n",
      " lstm_4 (LSTM)               (None, 100, 50)           10400     \n",
      "                                                                 \n",
      " dropout_4 (Dropout)         (None, 100, 50)           0         \n",
      "                                                                 \n",
      " lstm_5 (LSTM)               (None, 100, 60)           26640     \n",
      "                                                                 \n",
      " dropout_5 (Dropout)         (None, 100, 60)           0         \n",
      "                                                                 \n",
      " lstm_6 (LSTM)               (None, 100, 80)           45120     \n",
      "                                                                 \n",
      " dropout_6 (Dropout)         (None, 100, 80)           0         \n",
      "                                                                 \n",
      " lstm_7 (LSTM)               (None, 120)               96480     \n",
      "                                                                 \n",
      " dropout_7 (Dropout)         (None, 120)               0         \n",
      "                                                                 \n",
      " dense (Dense)               (None, 1)                 121       \n",
      "                                                                 \n",
      "=================================================================\n",
      "Total params: 178,761\n",
      "Trainable params: 178,761\n",
      "Non-trainable params: 0\n",
      "_________________________________________________________________\n"
     ]
    }
   ],
   "source": [
    "model = Sequential()\n",
    "model.add(LSTM(50, activation = 'relu', return_sequences = True, \n",
    "               input_shape = (x_train.shape[1], 1)))\n",
    "model.add(Dropout(0.2))\n",
    "\n",
    "model.add(LSTM(60, activation = 'relu', return_sequences = True))\n",
    "model.add(Dropout(0.3))\n",
    "\n",
    "model.add(LSTM(80, activation = 'relu', return_sequences = True))\n",
    "model.add(Dropout(0.4))\n",
    "\n",
    "model.add(LSTM(120, activation = 'relu'))\n",
    "model.add(Dropout(0.5))\n",
    "\n",
    "model.add(Dense(1))\n",
    "model.summary()"
   ]
  },
  {
   "cell_type": "code",
   "execution_count": 24,
   "id": "ee032efa-2546-4aeb-9633-7d8f3e2fe04a",
   "metadata": {
    "collapsed": true,
    "jupyter": {
     "outputs_hidden": true
    },
    "tags": []
   },
   "outputs": [
    {
     "name": "stdout",
     "output_type": "stream",
     "text": [
      "Epoch 1/50\n",
      "34/34 [==============================] - 12s 200ms/step - loss: 0.0238\n",
      "Epoch 2/50\n",
      "34/34 [==============================] - 8s 222ms/step - loss: 0.0137\n",
      "Epoch 3/50\n",
      "34/34 [==============================] - 8s 222ms/step - loss: 0.0069\n",
      "Epoch 4/50\n",
      "34/34 [==============================] - 6s 187ms/step - loss: 0.0050\n",
      "Epoch 5/50\n",
      "34/34 [==============================] - 6s 184ms/step - loss: 0.0041\n",
      "Epoch 6/50\n",
      "34/34 [==============================] - 6s 183ms/step - loss: 0.0041\n",
      "Epoch 7/50\n",
      "34/34 [==============================] - 7s 203ms/step - loss: 0.0052\n",
      "Epoch 8/50\n",
      "34/34 [==============================] - 8s 223ms/step - loss: 0.0041\n",
      "Epoch 9/50\n",
      "34/34 [==============================] - 7s 204ms/step - loss: 0.0038\n",
      "Epoch 10/50\n",
      "34/34 [==============================] - 7s 203ms/step - loss: 0.0037\n",
      "Epoch 11/50\n",
      "34/34 [==============================] - 6s 189ms/step - loss: 0.0044\n",
      "Epoch 12/50\n",
      "34/34 [==============================] - 7s 196ms/step - loss: 0.0034\n",
      "Epoch 13/50\n",
      "34/34 [==============================] - 7s 199ms/step - loss: 0.0058\n",
      "Epoch 14/50\n",
      "34/34 [==============================] - 7s 195ms/step - loss: 0.0040\n",
      "Epoch 15/50\n",
      "34/34 [==============================] - 6s 190ms/step - loss: 0.0037\n",
      "Epoch 16/50\n",
      "34/34 [==============================] - 6s 188ms/step - loss: 0.0029\n",
      "Epoch 17/50\n",
      "34/34 [==============================] - 6s 189ms/step - loss: 0.0034\n",
      "Epoch 18/50\n",
      "34/34 [==============================] - 6s 188ms/step - loss: 0.0031\n",
      "Epoch 19/50\n",
      "34/34 [==============================] - 6s 185ms/step - loss: 0.0027\n",
      "Epoch 20/50\n",
      "34/34 [==============================] - 7s 209ms/step - loss: 0.0032\n",
      "Epoch 21/50\n",
      "34/34 [==============================] - 7s 201ms/step - loss: 0.0023\n",
      "Epoch 22/50\n",
      "34/34 [==============================] - 8s 222ms/step - loss: 0.0033\n",
      "Epoch 23/50\n",
      "34/34 [==============================] - 8s 224ms/step - loss: 0.0031\n",
      "Epoch 24/50\n",
      "34/34 [==============================] - 9s 278ms/step - loss: 0.0028\n",
      "Epoch 25/50\n",
      "34/34 [==============================] - 9s 265ms/step - loss: 0.0032\n",
      "Epoch 26/50\n",
      "34/34 [==============================] - 8s 225ms/step - loss: 0.0030\n",
      "Epoch 27/50\n",
      "34/34 [==============================] - 7s 203ms/step - loss: 0.0031\n",
      "Epoch 28/50\n",
      "34/34 [==============================] - 7s 195ms/step - loss: 0.0029\n",
      "Epoch 29/50\n",
      "34/34 [==============================] - 7s 195ms/step - loss: 0.0027\n",
      "Epoch 30/50\n",
      "34/34 [==============================] - 6s 187ms/step - loss: 0.0032\n",
      "Epoch 31/50\n",
      "34/34 [==============================] - 7s 209ms/step - loss: 0.0031\n",
      "Epoch 32/50\n",
      "34/34 [==============================] - 7s 205ms/step - loss: 0.0027\n",
      "Epoch 33/50\n",
      "34/34 [==============================] - 8s 237ms/step - loss: 0.0027\n",
      "Epoch 34/50\n",
      "34/34 [==============================] - 7s 215ms/step - loss: 0.0029\n",
      "Epoch 35/50\n",
      "34/34 [==============================] - 7s 207ms/step - loss: 0.0024\n",
      "Epoch 36/50\n",
      "34/34 [==============================] - 7s 194ms/step - loss: 0.0025\n",
      "Epoch 37/50\n",
      "34/34 [==============================] - 8s 229ms/step - loss: 0.0025\n",
      "Epoch 38/50\n",
      "34/34 [==============================] - 6s 184ms/step - loss: 0.0022\n",
      "Epoch 39/50\n",
      "34/34 [==============================] - 7s 216ms/step - loss: 0.0028\n",
      "Epoch 40/50\n",
      "34/34 [==============================] - 6s 187ms/step - loss: 0.0024\n",
      "Epoch 41/50\n",
      "34/34 [==============================] - 7s 197ms/step - loss: 0.0027\n",
      "Epoch 42/50\n",
      "34/34 [==============================] - 6s 176ms/step - loss: 0.0023\n",
      "Epoch 43/50\n",
      "34/34 [==============================] - 6s 177ms/step - loss: 0.0029\n",
      "Epoch 44/50\n",
      "34/34 [==============================] - 6s 179ms/step - loss: 0.0025\n",
      "Epoch 45/50\n",
      "34/34 [==============================] - 6s 175ms/step - loss: 0.0023\n",
      "Epoch 46/50\n",
      "34/34 [==============================] - 6s 179ms/step - loss: 0.0027\n",
      "Epoch 47/50\n",
      "34/34 [==============================] - 6s 183ms/step - loss: 0.0022\n",
      "Epoch 48/50\n",
      "34/34 [==============================] - 6s 191ms/step - loss: 0.0021\n",
      "Epoch 49/50\n",
      "34/34 [==============================] - 6s 176ms/step - loss: 0.0024\n",
      "Epoch 50/50\n",
      "34/34 [==============================] - 6s 176ms/step - loss: 0.0020\n"
     ]
    },
    {
     "data": {
      "text/plain": [
       "<keras.callbacks.History at 0x13a754760>"
      ]
     },
     "execution_count": 24,
     "metadata": {},
     "output_type": "execute_result"
    }
   ],
   "source": [
    "# Compiling the model\n",
    "model.compile(optimizer = 'adam', loss = 'mean_squared_error')\n",
    "\n",
    "#Training the model\n",
    "model.fit(x_train, y_train, epochs = 50)"
   ]
  },
  {
   "cell_type": "code",
   "execution_count": 25,
   "id": "41127e06-d2e1-4c2c-b366-f1aa640391bc",
   "metadata": {},
   "outputs": [],
   "source": [
    "model.save('keras_model.h5')"
   ]
  },
  {
   "cell_type": "code",
   "execution_count": 26,
   "id": "ffb133b9-e6fe-40e0-8851-8c867aa7b4e4",
   "metadata": {
    "collapsed": true,
    "jupyter": {
     "outputs_hidden": true
    },
    "tags": []
   },
   "outputs": [
    {
     "data": {
      "text/html": [
       "<div>\n",
       "<style scoped>\n",
       "    .dataframe tbody tr th:only-of-type {\n",
       "        vertical-align: middle;\n",
       "    }\n",
       "\n",
       "    .dataframe tbody tr th {\n",
       "        vertical-align: top;\n",
       "    }\n",
       "\n",
       "    .dataframe thead th {\n",
       "        text-align: right;\n",
       "    }\n",
       "</style>\n",
       "<table border=\"1\" class=\"dataframe\">\n",
       "  <thead>\n",
       "    <tr style=\"text-align: right;\">\n",
       "      <th></th>\n",
       "      <th>Close</th>\n",
       "    </tr>\n",
       "  </thead>\n",
       "  <tbody>\n",
       "    <tr>\n",
       "      <th>1162</th>\n",
       "      <td>330.141998</td>\n",
       "    </tr>\n",
       "    <tr>\n",
       "      <th>1163</th>\n",
       "      <td>367.127991</td>\n",
       "    </tr>\n",
       "    <tr>\n",
       "      <th>1164</th>\n",
       "      <td>377.417999</td>\n",
       "    </tr>\n",
       "    <tr>\n",
       "      <th>1165</th>\n",
       "      <td>375.705994</td>\n",
       "    </tr>\n",
       "    <tr>\n",
       "      <th>1166</th>\n",
       "      <td>400.365997</td>\n",
       "    </tr>\n",
       "  </tbody>\n",
       "</table>\n",
       "</div>"
      ],
      "text/plain": [
       "           Close\n",
       "1162  330.141998\n",
       "1163  367.127991\n",
       "1164  377.417999\n",
       "1165  375.705994\n",
       "1166  400.365997"
      ]
     },
     "execution_count": 26,
     "metadata": {},
     "output_type": "execute_result"
    }
   ],
   "source": [
    "data_testing.head()"
   ]
  },
  {
   "cell_type": "code",
   "execution_count": null,
   "id": "b174ee81-06ac-4895-8324-a8f19ef125a5",
   "metadata": {},
   "outputs": [],
   "source": [
    "# Appending past 100 days of training data to testing data, and then scaling it"
   ]
  },
  {
   "cell_type": "code",
   "execution_count": 31,
   "id": "629bd027-da53-4818-91ef-a5f52a19265c",
   "metadata": {},
   "outputs": [],
   "source": [
    "past_100_days = data_training.tail(100)"
   ]
  },
  {
   "cell_type": "code",
   "execution_count": 32,
   "id": "51f6eca8-1cdc-4eb9-b5f5-bf022fd64888",
   "metadata": {},
   "outputs": [
    {
     "name": "stderr",
     "output_type": "stream",
     "text": [
      "/var/folders/94/jb_ngtrx5rbbhmg81lhdzck80000gn/T/ipykernel_64116/824681900.py:1: FutureWarning: The frame.append method is deprecated and will be removed from pandas in a future version. Use pandas.concat instead.\n",
      "  test_data = past_100_days.append(data_testing, ignore_index=True)\n"
     ]
    }
   ],
   "source": [
    "test_data = past_100_days.append(data_testing, ignore_index=True)"
   ]
  },
  {
   "cell_type": "code",
   "execution_count": 34,
   "id": "3c94167e-7f09-4a63-acec-75b23888d6dc",
   "metadata": {
    "collapsed": true,
    "jupyter": {
     "outputs_hidden": true
    },
    "tags": []
   },
   "outputs": [
    {
     "data": {
      "text/plain": [
       "array([[0.00887257],\n",
       "       [0.01488653],\n",
       "       [0.01293924],\n",
       "       [0.0105161 ],\n",
       "       [0.00836863],\n",
       "       [0.01220879],\n",
       "       [0.00475674],\n",
       "       [0.        ],\n",
       "       [0.00448457],\n",
       "       [0.01084621],\n",
       "       [0.01597519],\n",
       "       [0.01657044],\n",
       "       [0.0208127 ],\n",
       "       [0.03449996],\n",
       "       [0.04484924],\n",
       "       [0.04835051],\n",
       "       [0.05105109],\n",
       "       [0.05257521],\n",
       "       [0.05125301],\n",
       "       [0.04078081],\n",
       "       [0.04875085],\n",
       "       [0.04410123],\n",
       "       [0.04752874],\n",
       "       [0.06045218],\n",
       "       [0.05524945],\n",
       "       [0.06076122],\n",
       "       [0.05748998],\n",
       "       [0.04334444],\n",
       "       [0.05385702],\n",
       "       [0.05508966],\n",
       "       [0.05761289],\n",
       "       [0.05716688],\n",
       "       [0.06408163],\n",
       "       [0.06265408],\n",
       "       [0.06232397],\n",
       "       [0.05908433],\n",
       "       [0.06125638],\n",
       "       [0.06052593],\n",
       "       [0.06306496],\n",
       "       [0.06207815],\n",
       "       [0.06340385],\n",
       "       [0.06551796],\n",
       "       [0.06363564],\n",
       "       [0.06398506],\n",
       "       [0.06422386],\n",
       "       [0.06169185],\n",
       "       [0.06681732],\n",
       "       [0.07789706],\n",
       "       [0.0749928 ],\n",
       "       [0.07523862],\n",
       "       [0.07197617],\n",
       "       [0.07571272],\n",
       "       [0.08699614],\n",
       "       [0.08537194],\n",
       "       [0.10018823],\n",
       "       [0.09102066],\n",
       "       [0.0844255 ],\n",
       "       [0.09419182],\n",
       "       [0.0926519 ],\n",
       "       [0.0943481 ],\n",
       "       [0.09648504],\n",
       "       [0.09594772],\n",
       "       [0.09479235],\n",
       "       [0.09610225],\n",
       "       [0.08891534],\n",
       "       [0.09332792],\n",
       "       [0.08872044],\n",
       "       [0.09743146],\n",
       "       [0.10980355],\n",
       "       [0.11679554],\n",
       "       [0.13242834],\n",
       "       [0.1610355 ],\n",
       "       [0.16424526],\n",
       "       [0.16003462],\n",
       "       [0.16502137],\n",
       "       [0.19142487],\n",
       "       [0.18306853],\n",
       "       [0.18653468],\n",
       "       [0.19166367],\n",
       "       [0.18369714],\n",
       "       [0.18373227],\n",
       "       [0.20869417],\n",
       "       [0.19558812],\n",
       "       [0.19979702],\n",
       "       [0.18587975],\n",
       "       [0.16901079],\n",
       "       [0.19053816],\n",
       "       [0.17945665],\n",
       "       [0.18342849],\n",
       "       [0.18138813],\n",
       "       [0.17142692],\n",
       "       [0.18095092],\n",
       "       [0.1813021 ],\n",
       "       [0.18095443],\n",
       "       [0.18175511],\n",
       "       [0.17528111],\n",
       "       [0.16928646],\n",
       "       [0.16152889],\n",
       "       [0.19320009],\n",
       "       [0.20483119],\n",
       "       [0.21004797],\n",
       "       [0.24251985],\n",
       "       [0.25155397],\n",
       "       [0.25005091],\n",
       "       [0.27170118],\n",
       "       [0.28015585],\n",
       "       [0.27387323],\n",
       "       [0.27547812],\n",
       "       [0.298275  ],\n",
       "       [0.313302  ],\n",
       "       [0.30885078],\n",
       "       [0.35769998],\n",
       "       [0.33727005],\n",
       "       [0.31296837],\n",
       "       [0.27752551],\n",
       "       [0.28746392],\n",
       "       [0.21010766],\n",
       "       [0.24177535],\n",
       "       [0.24621778],\n",
       "       [0.24742936],\n",
       "       [0.28860524],\n",
       "       [0.31506669],\n",
       "       [0.30804308],\n",
       "       [0.29195023],\n",
       "       [0.30838547],\n",
       "       [0.31474185],\n",
       "       [0.29265261],\n",
       "       [0.25413689],\n",
       "       [0.26066008],\n",
       "       [0.27782401],\n",
       "       [0.28999242],\n",
       "       [0.28812238],\n",
       "       [0.29684921],\n",
       "       [0.31366196],\n",
       "       [0.28462813],\n",
       "       [0.29392562],\n",
       "       [0.28365361],\n",
       "       [0.29359199],\n",
       "       [0.29413635],\n",
       "       [0.30123018],\n",
       "       [0.30851716],\n",
       "       [0.31233625],\n",
       "       [0.32519822],\n",
       "       [0.31429409],\n",
       "       [0.30620817],\n",
       "       [0.29844706],\n",
       "       [0.29064209],\n",
       "       [0.29125667],\n",
       "       [0.29402221],\n",
       "       [0.28949198],\n",
       "       [0.28918469],\n",
       "       [0.29304767],\n",
       "       [0.27666511],\n",
       "       [0.28088805],\n",
       "       [0.26087957],\n",
       "       [0.27182761],\n",
       "       [0.29236287],\n",
       "       [0.28979927],\n",
       "       [0.30482099],\n",
       "       [0.29767449],\n",
       "       [0.29004509],\n",
       "       [0.28047541],\n",
       "       [0.28641915],\n",
       "       [0.28170456],\n",
       "       [0.27884243],\n",
       "       [0.27848247],\n",
       "       [0.30791137],\n",
       "       [0.34744552],\n",
       "       [0.35853401],\n",
       "       [0.35005301],\n",
       "       [0.37835813],\n",
       "       [0.40779585],\n",
       "       [0.42414328],\n",
       "       [0.43446799],\n",
       "       [0.41852438],\n",
       "       [0.43359004],\n",
       "       [0.41959551],\n",
       "       [0.44115797],\n",
       "       [0.44612715],\n",
       "       [0.48363324],\n",
       "       [0.49076219],\n",
       "       [0.45090321],\n",
       "       [0.47073614],\n",
       "       [0.45574072],\n",
       "       [0.4819388 ],\n",
       "       [0.47616187],\n",
       "       [0.46696096],\n",
       "       [0.49604747],\n",
       "       [0.53037533],\n",
       "       [0.49074462],\n",
       "       [0.48238656],\n",
       "       [0.48733816],\n",
       "       [0.50120104],\n",
       "       [0.50288669],\n",
       "       [0.50490597],\n",
       "       [0.5301822 ],\n",
       "       [0.53974305],\n",
       "       [0.56090169],\n",
       "       [0.56558992],\n",
       "       [0.58391275],\n",
       "       [0.63664247],\n",
       "       [0.69281379],\n",
       "       [0.63238443],\n",
       "       [0.66596604],\n",
       "       [0.67032943],\n",
       "       [0.66206794],\n",
       "       [0.64552733],\n",
       "       [0.66167285],\n",
       "       [0.66685278],\n",
       "       [0.66205915],\n",
       "       [0.66350779],\n",
       "       [0.69349857],\n",
       "       [0.69550911],\n",
       "       [0.67888945],\n",
       "       [0.65366595],\n",
       "       [0.61687984],\n",
       "       [0.65751137],\n",
       "       [0.68646617],\n",
       "       [0.67057529],\n",
       "       [0.66644891],\n",
       "       [0.66841551],\n",
       "       [0.67823978],\n",
       "       [0.66598362],\n",
       "       [0.62679189],\n",
       "       [0.63279704],\n",
       "       [0.63671272],\n",
       "       [0.61924148],\n",
       "       [0.62093597],\n",
       "       [0.61148042],\n",
       "       [0.60614247],\n",
       "       [0.54749537],\n",
       "       [0.53374668],\n",
       "       [0.57165659],\n",
       "       [0.51915509],\n",
       "       [0.51325529],\n",
       "       [0.55094571],\n",
       "       [0.52286007],\n",
       "       [0.493677  ],\n",
       "       [0.46579327],\n",
       "       [0.44517022],\n",
       "       [0.41448583],\n",
       "       [0.51156964],\n",
       "       [0.50672333],\n",
       "       [0.53441388],\n",
       "       [0.52926031],\n",
       "       [0.54173601],\n",
       "       [0.51446686],\n",
       "       [0.53635417],\n",
       "       [0.49364184],\n",
       "       [0.49514316],\n",
       "       [0.50842656],\n",
       "       [0.5015434 ],\n",
       "       [0.47354559],\n",
       "       [0.48243045],\n",
       "       [0.46339648],\n",
       "       [0.45688205],\n",
       "       [0.47824261],\n",
       "       [0.50660919],\n",
       "       [0.50118346],\n",
       "       [0.52690741],\n",
       "       [0.52740785],\n",
       "       [0.50927814],\n",
       "       [0.52054227],\n",
       "       [0.51458979],\n",
       "       [0.53650341],\n",
       "       [0.58947898],\n",
       "       [0.56306142],\n",
       "       [0.56887345],\n",
       "       [0.56968999],\n",
       "       [0.5476095 ],\n",
       "       [0.55143736],\n",
       "       [0.57350026],\n",
       "       [0.55205193],\n",
       "       [0.56057685],\n",
       "       [0.56830281],\n",
       "       [0.53892656],\n",
       "       [0.52984858],\n",
       "       [0.51457221],\n",
       "       [0.54305294],\n",
       "       [0.52150805],\n",
       "       [0.51158716],\n",
       "       [0.50925183],\n",
       "       [0.50275498],\n",
       "       [0.5105073 ],\n",
       "       [0.47246568],\n",
       "       [0.46207077],\n",
       "       [0.43809393],\n",
       "       [0.42211522],\n",
       "       [0.43796222],\n",
       "       [0.4266279 ],\n",
       "       [0.42754095],\n",
       "       [0.4148897 ],\n",
       "       [0.43536352],\n",
       "       [0.43018359],\n",
       "       [0.45262401],\n",
       "       [0.4510876 ],\n",
       "       [0.46376521],\n",
       "       [0.47405476],\n",
       "       [0.4691119 ],\n",
       "       [0.46795305],\n",
       "       [0.45146511],\n",
       "       [0.42312488],\n",
       "       [0.44613594],\n",
       "       [0.4514739 ],\n",
       "       [0.45012187],\n",
       "       [0.44589893],\n",
       "       [0.45585486],\n",
       "       [0.45565295],\n",
       "       [0.46250096],\n",
       "       [0.4464081 ],\n",
       "       [0.45124562],\n",
       "       [0.46154397],\n",
       "       [0.46743503],\n",
       "       [0.46525773],\n",
       "       [0.46778624],\n",
       "       [0.49663569],\n",
       "       [0.51704804],\n",
       "       [0.51006832],\n",
       "       [0.52486177],\n",
       "       [0.51787332],\n",
       "       [0.51694269],\n",
       "       [0.51537991],\n",
       "       [0.51624034],\n",
       "       [0.49927833],\n",
       "       [0.48617053],\n",
       "       [0.49333458],\n",
       "       [0.49696931],\n",
       "       [0.5222104 ],\n",
       "       [0.50714473],\n",
       "       [0.49383502],\n",
       "       [0.49139429],\n",
       "       [0.48579296],\n",
       "       [0.48754886],\n",
       "       [0.50008603],\n",
       "       [0.49551188],\n",
       "       [0.49021787],\n",
       "       [0.48505551],\n",
       "       [0.49755752],\n",
       "       [0.48628467],\n",
       "       [0.48821611],\n",
       "       [0.51487947],\n",
       "       [0.52352732],\n",
       "       [0.54325485],\n",
       "       [0.54331631],\n",
       "       [0.54435229],\n",
       "       [0.5476095 ],\n",
       "       [0.5339749 ],\n",
       "       [0.54684569],\n",
       "       [0.5435358 ],\n",
       "       [0.54163066],\n",
       "       [0.55429949],\n",
       "       [0.54983948],\n",
       "       [0.52262301],\n",
       "       [0.50466017],\n",
       "       [0.52509883],\n",
       "       [0.51147302],\n",
       "       [0.51743434],\n",
       "       [0.54029616],\n",
       "       [0.54221887],\n",
       "       [0.54459814],\n",
       "       [0.53578348],\n",
       "       [0.54523024],\n",
       "       [0.56190252],\n",
       "       [0.56612546],\n",
       "       [0.56469445],\n",
       "       [0.56320192],\n",
       "       [0.56423789],\n",
       "       [0.58122622],\n",
       "       [0.58206028],\n",
       "       [0.58292945],\n",
       "       [0.56660837],\n",
       "       [0.57251696],\n",
       "       [0.5738251 ],\n",
       "       [0.58378109],\n",
       "       [0.58479949],\n",
       "       [0.58699436],\n",
       "       [0.56125284],\n",
       "       [0.56933879],\n",
       "       [0.58036585],\n",
       "       [0.58185837],\n",
       "       [0.60007585],\n",
       "       [0.61497465],\n",
       "       [0.60285894],\n",
       "       [0.60615126],\n",
       "       [0.60103279],\n",
       "       [0.60080451],\n",
       "       [0.60634443],\n",
       "       [0.60551916],\n",
       "       [0.60741551],\n",
       "       [0.61695004],\n",
       "       [0.60982108],\n",
       "       [0.61548388],\n",
       "       [0.62758201],\n",
       "       [0.63228787],\n",
       "       [0.63864422],\n",
       "       [0.6603384 ],\n",
       "       [0.68411327],\n",
       "       [0.67898607],\n",
       "       [0.68032931],\n",
       "       [0.70508753],\n",
       "       [0.71885379],\n",
       "       [0.81997615],\n",
       "       [0.81433094],\n",
       "       [0.83138951],\n",
       "       [0.86578767],\n",
       "       [0.8982367 ],\n",
       "       [0.98128203],\n",
       "       [0.94915784],\n",
       "       [0.98590885],\n",
       "       [1.        ],\n",
       "       [0.99313437],\n",
       "       [0.94120356],\n",
       "       [0.81878215],\n",
       "       [0.85780702],\n",
       "       [0.85390897],\n",
       "       [0.82749146],\n",
       "       [0.80990608],\n",
       "       [0.84620054],\n",
       "       [0.87629672],\n",
       "       [0.88276721],\n",
       "       [0.91848229],\n",
       "       [0.93587444],\n",
       "       [0.89387331],\n",
       "       [0.8999926 ],\n",
       "       [0.87007207],\n",
       "       [0.91842078],\n",
       "       [0.92524247],\n",
       "       [0.88155563],\n",
       "       [0.87242492],\n",
       "       [0.81129321],\n",
       "       [0.80606065],\n",
       "       [0.84358426],\n",
       "       [0.85869376],\n",
       "       [0.80148651],\n",
       "       [0.81310184],\n",
       "       [0.76865992],\n",
       "       [0.76172414],\n",
       "       [0.7770707 ],\n",
       "       [0.73398965],\n",
       "       [0.7389501 ],\n",
       "       [0.71030256],\n",
       "       [0.7441827 ],\n",
       "       [0.80593773],\n",
       "       [0.85697301],\n",
       "       [0.88062495],\n",
       "       [0.87582259],\n",
       "       [0.87382083],\n",
       "       [0.85990534],\n",
       "       [0.84800038],\n",
       "       [0.97354734],\n",
       "       [0.92948293],\n",
       "       [0.87551533],\n",
       "       [0.85495368],\n",
       "       [0.82181983],\n",
       "       [0.8491768 ],\n",
       "       [0.85469036],\n",
       "       [0.89140621],\n",
       "       [0.82585849],\n",
       "       [0.84170543],\n",
       "       [0.8249366 ],\n",
       "       [0.79433125],\n",
       "       [0.79487557],\n",
       "       [0.74889729],\n",
       "       [0.73669376],\n",
       "       [0.72650955],\n",
       "       [0.74319935],\n",
       "       [0.6481085 ],\n",
       "       [0.66325315],\n",
       "       [0.74259356],\n",
       "       [0.73779119],\n",
       "       [0.71532441],\n",
       "       [0.7025766 ],\n",
       "       [0.73082905],\n",
       "       [0.71679942],\n",
       "       [0.72967015],\n",
       "       [0.73844966],\n",
       "       [0.7143499 ],\n",
       "       [0.6752372 ],\n",
       "       [0.68907372],\n",
       "       [0.73004766],\n",
       "       [0.73089051],\n",
       "       [0.68959168],\n",
       "       [0.67258577],\n",
       "       [0.64146246],\n",
       "       [0.59098903],\n",
       "       [0.6232362 ],\n",
       "       [0.63122553],\n",
       "       [0.68439422],\n",
       "       [0.67907384],\n",
       "       [0.69269966],\n",
       "       [0.65705482],\n",
       "       [0.65617687],\n",
       "       [0.62658119],\n",
       "       [0.64398218],\n",
       "       [0.67433289],\n",
       "       [0.65618566],\n",
       "       [0.61847766],\n",
       "       [0.59303467],\n",
       "       [0.6242195 ],\n",
       "       [0.6578801 ],\n",
       "       [0.68542141],\n",
       "       [0.7150874 ],\n",
       "       [0.72893265],\n",
       "       [0.79286503],\n",
       "       [0.79736892],\n",
       "       [0.81037137],\n",
       "       [0.80749172],\n",
       "       [0.87878128],\n",
       "       [0.88556782],\n",
       "       [0.88066889],\n",
       "       [0.86627927],\n",
       "       [0.87241613],\n",
       "       [0.92584821],\n",
       "       [0.87827211],\n",
       "       [0.83832535],\n",
       "       [0.84842178],\n",
       "       [0.82052927],\n",
       "       [0.77701803],\n",
       "       [0.78669306],\n",
       "       [0.81779006],\n",
       "       [0.78498105],\n",
       "       [0.8019167 ],\n",
       "       [0.82286465],\n",
       "       [0.77813304],\n",
       "       [0.80585874],\n",
       "       [0.80258395],\n",
       "       [0.79641198],\n",
       "       [0.68965314],\n",
       "       [0.69412193],\n",
       "       [0.69061013],\n",
       "       [0.68468396],\n",
       "       [0.71293641],\n",
       "       [0.71847628],\n",
       "       [0.756553  ],\n",
       "       [0.68689641],\n",
       "       [0.68019765],\n",
       "       [0.61124336],\n",
       "       [0.62259526],\n",
       "       [0.56461541],\n",
       "       [0.5593477 ],\n",
       "       [0.5958617 ],\n",
       "       [0.55616074],\n",
       "       [0.58885561],\n",
       "       [0.54337778],\n",
       "       [0.54303536],\n",
       "       [0.50307108],\n",
       "       [0.51272854],\n",
       "       [0.47169307],\n",
       "       [0.4985935 ],\n",
       "       [0.54155162],\n",
       "       [0.58711729],\n",
       "       [0.5859145 ],\n",
       "       [0.57020795],\n",
       "       [0.60061139],\n",
       "       [0.5378818 ],\n",
       "       [0.54779389],\n",
       "       [0.54939172],\n",
       "       [0.5572406 ],\n",
       "       [0.55155149],\n",
       "       [0.53185907],\n",
       "       [0.48841808],\n",
       "       [0.50199116],\n",
       "       [0.53388713],\n",
       "       [0.48147346],\n",
       "       [0.49111339],\n",
       "       [0.5445191 ],\n",
       "       [0.54201696],\n",
       "       [0.53933922],\n",
       "       [0.56735461],\n",
       "       [0.56528266],\n",
       "       [0.53300039],\n",
       "       [0.52200843],\n",
       "       [0.51142913],\n",
       "       [0.51877758],\n",
       "       [0.53406273],\n",
       "       [0.53055093],\n",
       "       [0.56429057],\n",
       "       [0.58067311],\n",
       "       [0.5374253 ],\n",
       "       [0.53407152],\n",
       "       [0.54452789],\n",
       "       [0.54788167],\n",
       "       [0.5524997 ],\n",
       "       [0.55376395],\n",
       "       [0.56688932],\n",
       "       [0.57207799],\n",
       "       [0.63583477],\n",
       "       [0.63724826],\n",
       "       [0.62721329],\n",
       "       [0.60199857],\n",
       "       [0.64403485],\n",
       "       [0.66004867],\n",
       "       [0.70284877],\n",
       "       [0.70318239],\n",
       "       [0.71190044],\n",
       "       [0.72983696],\n",
       "       [0.73309418],\n",
       "       [0.67919677],\n",
       "       [0.68513173]])"
      ]
     },
     "execution_count": 34,
     "metadata": {},
     "output_type": "execute_result"
    }
   ],
   "source": [
    "testing_data_array = scaler.fit_transform(test_data)\n",
    "testing_data_array"
   ]
  },
  {
   "cell_type": "code",
   "execution_count": 35,
   "id": "2ce2a9be-8d22-4138-a3f4-ecc8c5dc5949",
   "metadata": {},
   "outputs": [
    {
     "data": {
      "text/plain": [
       "(599, 1)"
      ]
     },
     "execution_count": 35,
     "metadata": {},
     "output_type": "execute_result"
    }
   ],
   "source": [
    "testing_data_array.shape"
   ]
  },
  {
   "cell_type": "code",
   "execution_count": null,
   "id": "e59c72d6-eceb-49b8-a960-27e7213e38e4",
   "metadata": {},
   "outputs": [],
   "source": [
    "# Testing Data"
   ]
  },
  {
   "cell_type": "code",
   "execution_count": 42,
   "id": "d7c263db-833c-438e-8462-0bb2121c8702",
   "metadata": {
    "tags": []
   },
   "outputs": [
    {
     "name": "stdout",
     "output_type": "stream",
     "text": [
      "(499, 100, 1)\n",
      "(499,)\n"
     ]
    }
   ],
   "source": [
    "x_test = [] # feature data\n",
    "y_test= []  # label data\n",
    "\n",
    "for i in range(100, testing_data_array.shape[0]):\n",
    "    x_test.append(testing_data_array[i-100: i])\n",
    "    y_test.append(testing_data_array[i, 0])\n",
    "    \n",
    "x_test, y_test = np.array(x_test), np.array(y_test)\n",
    "x_train = np.reshape(x_test, (x_test.shape[0], x_test.shape[1], 1))\n",
    "print(x_test.shape)\n",
    "#print(x_test)\n",
    "print(y_test.shape)"
   ]
  },
  {
   "cell_type": "code",
   "execution_count": 45,
   "id": "942e4966-a1f7-4774-86ad-a8f1693bb479",
   "metadata": {},
   "outputs": [
    {
     "name": "stdout",
     "output_type": "stream",
     "text": [
      "16/16 [==============================] - 1s 75ms/step\n"
     ]
    },
    {
     "data": {
      "text/plain": [
       "(499, 1)"
      ]
     },
     "execution_count": 45,
     "metadata": {},
     "output_type": "execute_result"
    }
   ],
   "source": [
    "# Making Predictions\n",
    "\n",
    "y_predicted = model.predict(x_test)\n",
    "y_predicted.shape"
   ]
  },
  {
   "cell_type": "code",
   "execution_count": 47,
   "id": "84d2c6e7-8abd-44d1-ab76-129cba5974ca",
   "metadata": {},
   "outputs": [
    {
     "data": {
      "text/plain": [
       "array([0.00087795])"
      ]
     },
     "execution_count": 47,
     "metadata": {},
     "output_type": "execute_result"
    }
   ],
   "source": [
    "scaler.scale_"
   ]
  },
  {
   "cell_type": "code",
   "execution_count": 48,
   "id": "44edab06-5756-41de-8de4-93a2b191d803",
   "metadata": {},
   "outputs": [],
   "source": [
    "scale_factor = 1/0.00087795\n",
    "y_predicted = y_predicted * scale_factor\n",
    "y_test = y_test * scale_factor\n"
   ]
  },
  {
   "cell_type": "code",
   "execution_count": 50,
   "id": "4892d572-10d8-49b7-aef5-a2464af70bfe",
   "metadata": {},
   "outputs": [
    {
     "data": {
      "image/png": "[encoded data removed]",
      "text/plain": [
       "<Figure size 864x432 with 1 Axes>"
      ]
     },
     "metadata": {
      "needs_background": "light"
     },
     "output_type": "display_data"
    }
   ],
   "source": [
    "plt.figure(figsize = (12,6))\n",
    "plt.plot(y_test, 'b', label=\"Original Price\")\n",
    "plt.plot(y_predicted, 'r', label=\"Predicted Price\")\n",
    "plt.xlabel('Time')\n",
    "plt.ylabel('Price')\n",
    "plt.legend()\n",
    "plt.show()"
   ]
  },
  {
   "cell_type": "code",
   "execution_count": null,
   "id": "482585e6-e824-4782-9fa9-a00ca756794e",
   "metadata": {},
   "outputs": [],
   "source": []
  }
 ],
 "metadata": {
  "kernelspec": {
   "display_name": "Python 3 (ipykernel)",
   "language": "python",
   "name": "python3"
  },
  "language_info": {
   "codemirror_mode": {
    "name": "ipython",
    "version": 3
   },
   "file_extension": ".py",
   "mimetype": "text/x-python",
   "name": "python",
   "nbconvert_exporter": "python",
   "pygments_lexer": "ipython3",
   "version": "3.9.13"
  }
 },
 "nbformat": 4,
 "nbformat_minor": 5
}
